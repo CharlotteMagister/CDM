{
 "cells": [
  {
   "cell_type": "code",
   "execution_count": 1,
   "id": "respiratory-pasta",
   "metadata": {},
   "outputs": [],
   "source": [
    "%load_ext autoreload\n",
    "%autoreload 2"
   ]
  },
  {
   "cell_type": "code",
   "execution_count": 2,
   "id": "assigned-brass",
   "metadata": {},
   "outputs": [],
   "source": [
    "import os\n",
    "import matplotlib.pyplot as plt\n",
    "\n",
    "import torch\n",
    "import torch.nn as nn\n",
    "import torch.nn.functional as F\n",
    "from torch_geometric.nn import GCNConv, dense_diff_pool\n",
    "import torch_explain as te\n",
    "from torch_explain.logic.nn import entropy\n",
    "from torch_explain.logic.metrics import test_explanation, complexity\n",
    "\n",
    "import numpy as np\n",
    "import pandas as pd\n",
    "from pytorch_lightning.utilities.seed import seed_everything\n",
    "from scipy.spatial.distance import cdist\n",
    "from sympy import to_dnf, lambdify\n",
    "from sklearn.metrics.cluster import homogeneity_score, completeness_score\n",
    "\n",
    "import clustering_utils\n",
    "import data_utils\n",
    "import lens_utils\n",
    "import model_utils\n",
    "import persistence_utils\n",
    "import visualisation_utils"
   ]
  },
  {
   "cell_type": "code",
   "execution_count": 3,
   "id": "corrected-technology",
   "metadata": {},
   "outputs": [],
   "source": [
    "# constants\n",
    "DATASET_NAME = \"BA_Shapes\"\n",
    "MODEL_NAME = f\"GCN for {DATASET_NAME}\"\n",
    "NUM_CLASSES = 4\n",
    "K = 10\n",
    "\n",
    "TRAIN_TEST_SPLIT = 0.8\n",
    "\n",
    "NUM_HIDDEN_UNITS = 10\n",
    "EPOCHS = 7000\n",
    "LR = 0.001\n",
    "\n",
    "RANDOM_STATE = 0\n",
    "\n",
    "NUM_NODES_VIEW = 5\n",
    "NUM_EXPANSIONS = 2\n",
    "\n",
    "LAYER_NUM = 3\n",
    "LAYER_KEY = \"conv3\"\n",
    "\n",
    "visualisation_utils.set_rc_params()"
   ]
  },
  {
   "cell_type": "code",
   "execution_count": 4,
   "id": "approved-turkish",
   "metadata": {},
   "outputs": [],
   "source": [
    "# model definition\n",
    "class GCN(nn.Module):\n",
    "    def __init__(self, num_in_features, num_hidden_features, num_classes):\n",
    "        super(GCN, self).__init__()\n",
    "        \n",
    "        self.conv0 = GCNConv(num_in_features, num_hidden_features)\n",
    "        self.conv1 = GCNConv(num_hidden_features, num_hidden_features)\n",
    "        self.conv2 = GCNConv(num_hidden_features, num_hidden_features)\n",
    "        self.conv3 = GCNConv(num_hidden_features, num_hidden_features)\n",
    "#         self.conv4 = GCNConv(num_hidden_features, num_hidden_features)\n",
    "        \n",
    "        # linear layers\n",
    "        self.lens = torch.nn.Sequential(te.nn.EntropyLinear(num_hidden_features, 1, n_classes=num_classes))\n",
    "\n",
    "    def forward(self, x, edge_index):\n",
    "        x = self.conv0(x, edge_index)\n",
    "        x = F.leaky_relu(x)\n",
    "\n",
    "        x = self.conv1(x, edge_index)\n",
    "        x = F.leaky_relu(x)\n",
    "\n",
    "        x = self.conv2(x, edge_index)\n",
    "        x = F.leaky_relu(x)\n",
    "        \n",
    "        x = self.conv3(x, edge_index)\n",
    "        x = F.leaky_relu(x)\n",
    "        \n",
    "#         x = self.conv4(x, edge_index)\n",
    "#         x = F.leaky_relu(x)\n",
    "                \n",
    "        self.gnn_embedding = x\n",
    "        \n",
    "        x = F.softmax(x, dim=-1)\n",
    "        x = torch.div(x, torch.max(x, dim=-1)[0].unsqueeze(1))\n",
    "        concepts = x\n",
    "        \n",
    "        x = self.lens(x)\n",
    "                \n",
    "        return concepts, x.squeeze(-1)"
   ]
  },
  {
   "cell_type": "code",
   "execution_count": 5,
   "id": "conscious-placement",
   "metadata": {},
   "outputs": [],
   "source": [
    "path = os.path.join(\"..\", \"output\", DATASET_NAME, \"seed_42\")"
   ]
  },
  {
   "cell_type": "code",
   "execution_count": 34,
   "id": "abandoned-quarterly",
   "metadata": {},
   "outputs": [
    {
     "data": {
      "text/plain": [
       "array([ 0,  1,  2,  3,  4,  5,  6,  7,  8,  9, 10, 11, 12, 13, 14, 15, 16,\n",
       "       17, 18, 19, 20])"
      ]
     },
     "execution_count": 34,
     "metadata": {},
     "output_type": "execute_result"
    }
   ],
   "source": [
    "# model training\n",
    "data = persistence_utils.load_experiment(path, \"data.z\")\n",
    "x = data['x']\n",
    "y = data['y']\n",
    "test_mask = data['test_mask']\n",
    "edges = data['edges']\n",
    "model = GCN(data[\"x\"].shape[1], NUM_HIDDEN_UNITS, NUM_CLASSES)\n",
    "model = persistence_utils.load_model(model, path, 'model.z')\n",
    "model.eval()"
   ]
  },
  {
   "cell_type": "code",
   "execution_count": 44,
   "id": "professional-bridal",
   "metadata": {},
   "outputs": [
    {
     "data": {
      "text/plain": [
       "torch.Size([21, 10])"
      ]
     },
     "execution_count": 44,
     "metadata": {},
     "output_type": "execute_result"
    }
   ],
   "source": [
    "concepts, y_pred = model(x, edges)\n",
    "cluster_general_labels = torch.tensor(np.unique(concepts>0.5, axis=0)).float()\n",
    "cluster_general_labels.shape"
   ]
  },
  {
   "cell_type": "code",
   "execution_count": 60,
   "id": "limiting-thanks",
   "metadata": {},
   "outputs": [
    {
     "name": "stdout",
     "output_type": "stream",
     "text": [
      "Initial accuracy: 0.9871428571428571\n",
      "New accuracy: 0.9885714285714285\n",
      "New accuracy: 0.99\n",
      "New accuracy: 0.9914285714285714\n",
      "New accuracy: 0.9928571428571429\n",
      "New accuracy: 0.9942857142857143\n",
      "New accuracy: 0.9957142857142857\n",
      "New accuracy: 0.9971428571428571\n",
      "New accuracy: 0.9985714285714286\n",
      "New accuracy: 1.0\n"
     ]
    }
   ],
   "source": [
    "import copy\n",
    "from sklearn.metrics import accuracy_score\n",
    "wrong_pred_idx = torch.where(y_pred.argmax(dim=-1) != y)[0]\n",
    "interventions = copy.deepcopy(y_pred.argmax(dim=-1))\n",
    "accuracy = accuracy_score(y, interventions)\n",
    "print(f'Initial accuracy: {accuracy}')\n",
    "for wrong_id in wrong_pred_idx:\n",
    "    wrong_concept = concepts[wrong_id]\n",
    "    correct_y = y[wrong_id]\n",
    "    max_vals, candidate_labels = model.lens(cluster_general_labels).max(dim=-2)\n",
    "    correct_mask = torch.where(candidate_labels == correct_y)\n",
    "    max_vals_filtered, candidate_labels_filtered = max_vals[correct_mask], candidate_labels[correct_mask]\n",
    "    new_y = candidate_labels_filtered[max_vals_filtered.argmax()]\n",
    "    interventions[wrong_id] = new_y\n",
    "    accuracy = accuracy_score(y, interventions)\n",
    "    print(f'New accuracy: {accuracy}')"
   ]
  },
  {
   "cell_type": "code",
   "execution_count": 51,
   "id": "cooperative-oriental",
   "metadata": {},
   "outputs": [
    {
     "data": {
      "text/plain": [
       "(tensor([ 2,  3,  4,  5, 12, 13, 18, 20]), tensor([0, 0, 0, 0, 0, 0, 0, 0]))"
      ]
     },
     "execution_count": 51,
     "metadata": {},
     "output_type": "execute_result"
    }
   ],
   "source": []
  }
 ],
 "metadata": {
  "kernelspec": {
   "display_name": "Python 3 (ipykernel)",
   "language": "python",
   "name": "python3"
  },
  "language_info": {
   "codemirror_mode": {
    "name": "ipython",
    "version": 3
   },
   "file_extension": ".py",
   "mimetype": "text/x-python",
   "name": "python",
   "nbconvert_exporter": "python",
   "pygments_lexer": "ipython3",
   "version": "3.9.7"
  }
 },
 "nbformat": 4,
 "nbformat_minor": 5
}
